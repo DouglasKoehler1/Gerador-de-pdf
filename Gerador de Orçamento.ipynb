{
 "cells": [
  {
   "cell_type": "code",
   "execution_count": 1,
   "id": "61f32fff",
   "metadata": {},
   "outputs": [
    {
     "name": "stdout",
     "output_type": "stream",
     "text": [
      "Digite a descrição do projeto: brincando com python\n",
      "Digite o total de horas trabalhas: 100\n",
      "Digite o valor da hora trabalha: 50\n",
      "Digite o prazo estimado: 10\n"
     ]
    }
   ],
   "source": [
    "projeto = input(\"Digite a descrição do projeto: \")\n",
    "horas_trabalhadas = input(\"Digite o total de horas trabalhas: \")\n",
    "valor_hora = input(\"Digite o valor da hora trabalha: \")\n",
    "prazo_estimado = input(\"Digite o prazo estimado: \")"
   ]
  },
  {
   "cell_type": "code",
   "execution_count": 2,
   "id": "14cc5c0b",
   "metadata": {},
   "outputs": [
    {
     "name": "stdout",
     "output_type": "stream",
     "text": [
      "5000\n"
     ]
    }
   ],
   "source": [
    "valor_total_estimado = int(horas_trabalhadas) * int(valor_hora)\n",
    "print(valor_total_estimado)"
   ]
  },
  {
   "cell_type": "code",
   "execution_count": 3,
   "id": "85217426",
   "metadata": {},
   "outputs": [
    {
     "name": "stdout",
     "output_type": "stream",
     "text": [
      "Requirement already satisfied: fpdf in c:\\users\\pichau\\anaconda3\\lib\\site-packages (1.7.2)\n"
     ]
    }
   ],
   "source": [
    "!pip install fpdf"
   ]
  },
  {
   "cell_type": "code",
   "execution_count": 4,
   "id": "443f890e",
   "metadata": {},
   "outputs": [],
   "source": [
    "from fpdf import FPDF"
   ]
  },
  {
   "cell_type": "code",
   "execution_count": 5,
   "id": "2f634f12",
   "metadata": {},
   "outputs": [],
   "source": [
    "pdf = FPDF()\n",
    "pdf.add_page()\n",
    "pdf.set_font(\"Arial\")"
   ]
  },
  {
   "cell_type": "code",
   "execution_count": 6,
   "id": "1deff9fc",
   "metadata": {},
   "outputs": [],
   "source": [
    "pdf.image(\"template.png\", x=0, y=0 )\n",
    "\n",
    "pdf.text(115, 145, projeto)\n",
    "pdf.text(115, 160, horas_trabalhadas)\n",
    "pdf.text(115, 175, valor_hora)\n",
    "pdf.text(115, 190, prazo_estimado)\n",
    "pdf.text(115, 205, str(valor_total_estimado))"
   ]
  },
  {
   "cell_type": "code",
   "execution_count": 7,
   "id": "5ddcd691",
   "metadata": {},
   "outputs": [
    {
     "name": "stdout",
     "output_type": "stream",
     "text": [
      "Orçamento gerado com sucesso!\n"
     ]
    }
   ],
   "source": [
    "pdf.output(\"orçamento.pdf\")\n",
    "print(\"Orçamento gerado com sucesso!\")"
   ]
  },
  {
   "cell_type": "code",
   "execution_count": null,
   "id": "527bf628",
   "metadata": {},
   "outputs": [],
   "source": []
  }
 ],
 "metadata": {
  "kernelspec": {
   "display_name": "Python 3 (ipykernel)",
   "language": "python",
   "name": "python3"
  },
  "language_info": {
   "codemirror_mode": {
    "name": "ipython",
    "version": 3
   },
   "file_extension": ".py",
   "mimetype": "text/x-python",
   "name": "python",
   "nbconvert_exporter": "python",
   "pygments_lexer": "ipython3",
   "version": "3.10.9"
  }
 },
 "nbformat": 4,
 "nbformat_minor": 5
}
